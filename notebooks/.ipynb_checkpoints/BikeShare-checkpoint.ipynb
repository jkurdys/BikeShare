{
 "cells": [
  {
   "cell_type": "markdown",
   "id": "cc204f90",
   "metadata": {},
   "source": [
    "## Requirements\n",
    "\n",
    "- predict net rate of bike rentals for a give station *rate defined as (trips ended - trips started) / hr\n",
    "    - expect that the primary factors influencing rate will be:\n",
    "        - time of day\n",
    "        - weather\n",
    "        - station location\n",
    "- EDA\n",
    "    - Tableau Top Stations by year https://public.tableau.com/views/BikeShare_16361485366690/Dashboard1?:language=en-US&publish=yes&:display_count=n&:origin=viz_share_link\n",
    "    \n",
    "    - Maybe take this guy's advice: https://hrngok.github.io/posts/bay_area%20bike%20data/\n",
    "- data wrangling"
   ]
  },
  {
   "cell_type": "markdown",
   "id": "568a5f95",
   "metadata": {},
   "source": [
    "## Data Preparation"
   ]
  },
  {
   "cell_type": "code",
   "execution_count": 1,
   "id": "017b7041",
   "metadata": {},
   "outputs": [],
   "source": [
    "import pandas as pd\n",
    "import numpy as np\n",
    "import datetime as dt\n",
    "\n",
    "import seaborn as sns\n",
    "import matplotlib.pyplot as plt"
   ]
  },
  {
   "cell_type": "code",
   "execution_count": 10,
   "id": "92472579",
   "metadata": {},
   "outputs": [],
   "source": [
    "stations = pd.read_csv('../data/station_data.csv')\n",
    "trips = pd.read_csv('../data/trip_data.csv',\n",
    "                    parse_dates=['Start Date', 'End Date'], \n",
    "                    infer_datetime_format=True)\n",
    "weather = pd.read_csv('../data/weather_data.csv')"
   ]
  },
  {
   "cell_type": "code",
   "execution_count": 4,
   "id": "63c3d4c3",
   "metadata": {},
   "outputs": [],
   "source": [
    "trip_df = pd.read_csv(\"../data/trip_data.csv\", \n",
    "                    parse_dates=['Start Date', 'End Date'], \n",
    "                    infer_datetime_format=True)"
   ]
  },
  {
   "cell_type": "markdown",
   "id": "9b5d9f6d",
   "metadata": {},
   "source": [
    "### Start by inspecting data"
   ]
  },
  {
   "cell_type": "code",
   "execution_count": 3,
   "id": "ceae1cc3",
   "metadata": {},
   "outputs": [
    {
     "data": {
      "text/html": [
       "<div>\n",
       "<style scoped>\n",
       "    .dataframe tbody tr th:only-of-type {\n",
       "        vertical-align: middle;\n",
       "    }\n",
       "\n",
       "    .dataframe tbody tr th {\n",
       "        vertical-align: top;\n",
       "    }\n",
       "\n",
       "    .dataframe thead th {\n",
       "        text-align: right;\n",
       "    }\n",
       "</style>\n",
       "<table border=\"1\" class=\"dataframe\">\n",
       "  <thead>\n",
       "    <tr style=\"text-align: right;\">\n",
       "      <th></th>\n",
       "      <th>Id</th>\n",
       "      <th>Name</th>\n",
       "      <th>Lat</th>\n",
       "      <th>Long</th>\n",
       "      <th>Dock Count</th>\n",
       "      <th>City</th>\n",
       "    </tr>\n",
       "  </thead>\n",
       "  <tbody>\n",
       "    <tr>\n",
       "      <th>0</th>\n",
       "      <td>2</td>\n",
       "      <td>San Jose Diridon Caltrain Station</td>\n",
       "      <td>37.329732</td>\n",
       "      <td>-121.901782</td>\n",
       "      <td>27</td>\n",
       "      <td>San Jose</td>\n",
       "    </tr>\n",
       "    <tr>\n",
       "      <th>1</th>\n",
       "      <td>3</td>\n",
       "      <td>San Jose Civic Center</td>\n",
       "      <td>37.330698</td>\n",
       "      <td>-121.888979</td>\n",
       "      <td>15</td>\n",
       "      <td>San Jose</td>\n",
       "    </tr>\n",
       "    <tr>\n",
       "      <th>2</th>\n",
       "      <td>4</td>\n",
       "      <td>Santa Clara at Almaden</td>\n",
       "      <td>37.333988</td>\n",
       "      <td>-121.894902</td>\n",
       "      <td>11</td>\n",
       "      <td>San Jose</td>\n",
       "    </tr>\n",
       "    <tr>\n",
       "      <th>3</th>\n",
       "      <td>5</td>\n",
       "      <td>Adobe on Almaden</td>\n",
       "      <td>37.331415</td>\n",
       "      <td>-121.893200</td>\n",
       "      <td>19</td>\n",
       "      <td>San Jose</td>\n",
       "    </tr>\n",
       "    <tr>\n",
       "      <th>4</th>\n",
       "      <td>6</td>\n",
       "      <td>San Pedro Square</td>\n",
       "      <td>37.336721</td>\n",
       "      <td>-121.894074</td>\n",
       "      <td>15</td>\n",
       "      <td>San Jose</td>\n",
       "    </tr>\n",
       "  </tbody>\n",
       "</table>\n",
       "</div>"
      ],
      "text/plain": [
       "   Id                               Name        Lat        Long  Dock Count  \\\n",
       "0   2  San Jose Diridon Caltrain Station  37.329732 -121.901782          27   \n",
       "1   3              San Jose Civic Center  37.330698 -121.888979          15   \n",
       "2   4             Santa Clara at Almaden  37.333988 -121.894902          11   \n",
       "3   5                   Adobe on Almaden  37.331415 -121.893200          19   \n",
       "4   6                   San Pedro Square  37.336721 -121.894074          15   \n",
       "\n",
       "       City  \n",
       "0  San Jose  \n",
       "1  San Jose  \n",
       "2  San Jose  \n",
       "3  San Jose  \n",
       "4  San Jose  "
      ]
     },
     "execution_count": 3,
     "metadata": {},
     "output_type": "execute_result"
    }
   ],
   "source": [
    "stations.head()"
   ]
  },
  {
   "cell_type": "code",
   "execution_count": 4,
   "id": "18a2076d",
   "metadata": {},
   "outputs": [
    {
     "name": "stdout",
     "output_type": "stream",
     "text": [
      "<class 'pandas.core.frame.DataFrame'>\n",
      "RangeIndex: 76 entries, 0 to 75\n",
      "Data columns (total 6 columns):\n",
      " #   Column      Non-Null Count  Dtype  \n",
      "---  ------      --------------  -----  \n",
      " 0   Id          76 non-null     int64  \n",
      " 1   Name        76 non-null     object \n",
      " 2   Lat         76 non-null     float64\n",
      " 3   Long        76 non-null     float64\n",
      " 4   Dock Count  76 non-null     int64  \n",
      " 5   City        76 non-null     object \n",
      "dtypes: float64(2), int64(2), object(2)\n",
      "memory usage: 3.7+ KB\n"
     ]
    }
   ],
   "source": [
    "stations.info()"
   ]
  },
  {
   "cell_type": "code",
   "execution_count": 5,
   "id": "ad80e94e",
   "metadata": {},
   "outputs": [
    {
     "data": {
      "text/html": [
       "<div>\n",
       "<style scoped>\n",
       "    .dataframe tbody tr th:only-of-type {\n",
       "        vertical-align: middle;\n",
       "    }\n",
       "\n",
       "    .dataframe tbody tr th {\n",
       "        vertical-align: top;\n",
       "    }\n",
       "\n",
       "    .dataframe thead th {\n",
       "        text-align: right;\n",
       "    }\n",
       "</style>\n",
       "<table border=\"1\" class=\"dataframe\">\n",
       "  <thead>\n",
       "    <tr style=\"text-align: right;\">\n",
       "      <th></th>\n",
       "      <th>Trip ID</th>\n",
       "      <th>Start Date</th>\n",
       "      <th>Start Station</th>\n",
       "      <th>End Date</th>\n",
       "      <th>End Station</th>\n",
       "      <th>Subscriber Type</th>\n",
       "    </tr>\n",
       "  </thead>\n",
       "  <tbody>\n",
       "    <tr>\n",
       "      <th>0</th>\n",
       "      <td>913460</td>\n",
       "      <td>31/08/2015 23:26</td>\n",
       "      <td>50</td>\n",
       "      <td>31/08/2015 23:39</td>\n",
       "      <td>70</td>\n",
       "      <td>Subscriber</td>\n",
       "    </tr>\n",
       "    <tr>\n",
       "      <th>1</th>\n",
       "      <td>913459</td>\n",
       "      <td>31/08/2015 23:11</td>\n",
       "      <td>31</td>\n",
       "      <td>31/08/2015 23:28</td>\n",
       "      <td>27</td>\n",
       "      <td>Subscriber</td>\n",
       "    </tr>\n",
       "    <tr>\n",
       "      <th>2</th>\n",
       "      <td>913455</td>\n",
       "      <td>31/08/2015 23:13</td>\n",
       "      <td>47</td>\n",
       "      <td>31/08/2015 23:18</td>\n",
       "      <td>64</td>\n",
       "      <td>Subscriber</td>\n",
       "    </tr>\n",
       "    <tr>\n",
       "      <th>3</th>\n",
       "      <td>913454</td>\n",
       "      <td>31/08/2015 23:10</td>\n",
       "      <td>10</td>\n",
       "      <td>31/08/2015 23:17</td>\n",
       "      <td>8</td>\n",
       "      <td>Subscriber</td>\n",
       "    </tr>\n",
       "    <tr>\n",
       "      <th>4</th>\n",
       "      <td>913453</td>\n",
       "      <td>31/08/2015 23:09</td>\n",
       "      <td>51</td>\n",
       "      <td>31/08/2015 23:22</td>\n",
       "      <td>60</td>\n",
       "      <td>Customer</td>\n",
       "    </tr>\n",
       "  </tbody>\n",
       "</table>\n",
       "</div>"
      ],
      "text/plain": [
       "   Trip ID        Start Date  Start Station          End Date  End Station  \\\n",
       "0   913460  31/08/2015 23:26             50  31/08/2015 23:39           70   \n",
       "1   913459  31/08/2015 23:11             31  31/08/2015 23:28           27   \n",
       "2   913455  31/08/2015 23:13             47  31/08/2015 23:18           64   \n",
       "3   913454  31/08/2015 23:10             10  31/08/2015 23:17            8   \n",
       "4   913453  31/08/2015 23:09             51  31/08/2015 23:22           60   \n",
       "\n",
       "  Subscriber Type  \n",
       "0      Subscriber  \n",
       "1      Subscriber  \n",
       "2      Subscriber  \n",
       "3      Subscriber  \n",
       "4        Customer  "
      ]
     },
     "execution_count": 5,
     "metadata": {},
     "output_type": "execute_result"
    }
   ],
   "source": [
    "trips.head()"
   ]
  },
  {
   "cell_type": "code",
   "execution_count": 6,
   "id": "6c0cd2b6",
   "metadata": {},
   "outputs": [
    {
     "name": "stdout",
     "output_type": "stream",
     "text": [
      "<class 'pandas.core.frame.DataFrame'>\n",
      "RangeIndex: 354152 entries, 0 to 354151\n",
      "Data columns (total 6 columns):\n",
      " #   Column           Non-Null Count   Dtype \n",
      "---  ------           --------------   ----- \n",
      " 0   Trip ID          354152 non-null  int64 \n",
      " 1   Start Date       354152 non-null  object\n",
      " 2   Start Station    354152 non-null  int64 \n",
      " 3   End Date         354152 non-null  object\n",
      " 4   End Station      354152 non-null  int64 \n",
      " 5   Subscriber Type  354152 non-null  object\n",
      "dtypes: int64(3), object(3)\n",
      "memory usage: 16.2+ MB\n"
     ]
    }
   ],
   "source": [
    "trips.info()"
   ]
  },
  {
   "cell_type": "code",
   "execution_count": 3,
   "id": "e0be3e7b",
   "metadata": {},
   "outputs": [],
   "source": [
    "'''\n",
    "A note included with the data indicates that several stations were\n",
    "relocated. Those include stations 23, 24, 49, 69 and 72, which\n",
    "became 85, 86, 87, 88 and 89, respectively. Subsequently, 89 later\n",
    "became 90, as well.\n",
    "'''\n",
    "moved_stations=[23, 24, 49, 69, 72]\n",
    "new_stations1=[85, 86, 87, 88, 89]\n",
    "new_stations2=[90]"
   ]
  },
  {
   "cell_type": "code",
   "execution_count": 4,
   "id": "57d2e504",
   "metadata": {},
   "outputs": [],
   "source": [
    "replace_zip= list(zip(moved_stations, new_stations1))"
   ]
  },
  {
   "cell_type": "code",
   "execution_count": 11,
   "id": "1119d38c",
   "metadata": {},
   "outputs": [],
   "source": [
    "for s1, s2 in replace_zip:\n",
    "    trips.loc[trips[\"Start Station\"]==s1, \"Start Station\"]=s2"
   ]
  },
  {
   "cell_type": "code",
   "execution_count": 12,
   "id": "11b5f9a6",
   "metadata": {},
   "outputs": [],
   "source": [
    "trips.loc[trips[\"Start Station\"]==89, \"Start Station\"]=90"
   ]
  },
  {
   "cell_type": "code",
   "execution_count": 13,
   "id": "cdb821a8",
   "metadata": {},
   "outputs": [],
   "source": [
    "for s1, s2 in replace_zip:\n",
    "    trips.loc[trips[\"End Station\"]==s1, \"End Station\"]=s2"
   ]
  },
  {
   "cell_type": "code",
   "execution_count": 14,
   "id": "8a54a408",
   "metadata": {},
   "outputs": [],
   "source": [
    "trips.loc[trips[\"End Station\"]==89, \"End Station\"]=90"
   ]
  },
  {
   "cell_type": "code",
   "execution_count": 65,
   "id": "2503f307",
   "metadata": {},
   "outputs": [
    {
     "data": {
      "image/png": "[encoded data removed]",
      "text/plain": [
       "<Figure size 1152x360 with 1 Axes>"
      ]
     },
     "metadata": {
      "needs_background": "light"
     },
     "output_type": "display_data"
    }
   ],
   "source": [
    "fig, ax=plt.subplots(figsize=(16, 5))\n",
    "sns.countplot(x=trips[\"Start Station\"], order= trips['Start Station'].value_counts().index[:5], ax=ax);"
   ]
  },
  {
   "cell_type": "code",
   "execution_count": 41,
   "id": "d9a666cb",
   "metadata": {},
   "outputs": [
    {
     "data": {
      "image/png": "[encoded data removed]",
      "text/plain": [
       "<Figure size 1152x360 with 1 Axes>"
      ]
     },
     "metadata": {
      "needs_background": "light"
     },
     "output_type": "display_data"
    }
   ],
   "source": [
    "fig, ax=plt.subplots(figsize=(16, 5))\n",
    "sns.countplot(x=trips[\"Start Station\"], order= trips['Start Station'].value_counts(ascending=True).index[:5], ax=ax);"
   ]
  },
  {
   "cell_type": "code",
   "execution_count": 42,
   "id": "45889133",
   "metadata": {},
   "outputs": [
    {
     "data": {
      "image/png": "[encoded data removed]",
      "text/plain": [
       "<Figure size 432x288 with 1 Axes>"
      ]
     },
     "metadata": {
      "needs_background": "light"
     },
     "output_type": "display_data"
    }
   ],
   "source": [
    "trips['Start Station'].hist(bins=int(np.sqrt(len(stations.Id))));"
   ]
  },
  {
   "cell_type": "code",
   "execution_count": 15,
   "id": "7afc6dad",
   "metadata": {},
   "outputs": [],
   "source": [
    "trips['month'] = trips['Start Date'].dt.month\n",
    "trips['day'] = trips['Start Date'].dt.dayofweek\n",
    "trips['hour'] = trips['Start Date'].dt.hour"
   ]
  },
  {
   "cell_type": "code",
   "execution_count": 16,
   "id": "70fb5946",
   "metadata": {},
   "outputs": [],
   "source": [
    "weekdays=trips[trips[\"Start Date\"].dt.weekday <5]\n",
    "weekends=trips[trips[\"Start Date\"].dt.weekday >=5]"
   ]
  },
  {
   "cell_type": "code",
   "execution_count": 68,
   "id": "ad76fe63",
   "metadata": {},
   "outputs": [
    {
     "data": {
      "image/png": "[encoded data removed]",
      "text/plain": [
       "<Figure size 1152x360 with 1 Axes>"
      ]
     },
     "metadata": {
      "needs_background": "light"
     },
     "output_type": "display_data"
    }
   ],
   "source": [
    "fig, ax=plt.subplots(figsize=(16, 5))\n",
    "sns.countplot(x=weekdays[\"Start Station\"], order= weekdays['Start Station'].value_counts().index[:5], ax=ax);"
   ]
  },
  {
   "cell_type": "code",
   "execution_count": 69,
   "id": "83e38c0b",
   "metadata": {},
   "outputs": [
    {
     "data": {
      "image/png": "[encoded data removed]",
      "text/plain": [
       "<Figure size 1152x360 with 1 Axes>"
      ]
     },
     "metadata": {
      "needs_background": "light"
     },
     "output_type": "display_data"
    }
   ],
   "source": [
    "fig, ax=plt.subplots(figsize=(16, 5))\n",
    "sns.countplot(x=weekdays[\"Start Station\"], order= weekdays['Start Station'].value_counts(ascending =True).index[:5], ax=ax);"
   ]
  },
  {
   "cell_type": "code",
   "execution_count": 70,
   "id": "44006698",
   "metadata": {},
   "outputs": [
    {
     "data": {
      "image/png": "[encoded data removed]",
      "text/plain": [
       "<Figure size 1152x360 with 1 Axes>"
      ]
     },
     "metadata": {
      "needs_background": "light"
     },
     "output_type": "display_data"
    }
   ],
   "source": [
    "fig, ax=plt.subplots(figsize=(16, 5))\n",
    "sns.countplot(x=weekends[\"Start Station\"], order= weekends['Start Station'].value_counts().index[:5], ax=ax);"
   ]
  },
  {
   "cell_type": "code",
   "execution_count": 71,
   "id": "5b835bc7",
   "metadata": {},
   "outputs": [
    {
     "data": {
      "image/png": "[encoded data removed]",
      "text/plain": [
       "<Figure size 1152x360 with 1 Axes>"
      ]
     },
     "metadata": {
      "needs_background": "light"
     },
     "output_type": "display_data"
    }
   ],
   "source": [
    "fig, ax=plt.subplots(figsize=(16, 5))\n",
    "sns.countplot(x=weekends[\"Start Station\"], order= weekends['Start Station'].value_counts(ascending =True).index[:5], ax=ax);"
   ]
  },
  {
   "cell_type": "code",
   "execution_count": 17,
   "id": "775e0285",
   "metadata": {},
   "outputs": [],
   "source": [
    "def group_plot(df, lst, agg_func, labelx, labely, title):\n",
    "    '''\n",
    "    Takes a dataframe, a list of columns to groupby, an aggregation function for the groups, \n",
    "    3 strings: label of x-axis, label of y-axis and title returns a line plot\n",
    "    Plots the data with labels and title.\n",
    "    '''\n",
    "    plt.style.use('fivethirtyeight')\n",
    "    group= getattr(df.groupby(lst), agg_func)()/1000\n",
    "    ax= group.plot(figsize=(11,4), rot=70, fontsize=11)        \n",
    "    ax.set_xlabel(labelx)\n",
    "    ax.set_ylabel(labely)\n",
    "    ax.set_title(title)\n",
    "    plt.show()"
   ]
  },
  {
   "cell_type": "code",
   "execution_count": 18,
   "id": "23160e7a",
   "metadata": {},
   "outputs": [
    {
     "data": {
      "image/png": "[encoded data removed]",
      "text/plain": [
       "<Figure size 792x288 with 1 Axes>"
      ]
     },
     "metadata": {},
     "output_type": "display_data"
    }
   ],
   "source": [
    "labelx= \"Day\"\n",
    "labely = \"Trip Count\"\n",
    "title= \"Daily trips by day of week (thousands)\"\n",
    "group_plot(trips,[\"day\"], 'size', labelx, labely, title)"
   ]
  },
  {
   "cell_type": "code",
   "execution_count": 117,
   "id": "b4bdd146",
   "metadata": {},
   "outputs": [
    {
     "data": {
      "image/png": "[encoded data removed]",
      "text/plain": [
       "<Figure size 792x288 with 1 Axes>"
      ]
     },
     "metadata": {},
     "output_type": "display_data"
    }
   ],
   "source": [
    "labelx= \"Month\"\n",
    "labely = \"Trip Count\"\n",
    "title= \"Trip count by month (thousands)\"\n",
    "group_plot(trips,[\"month\"], 'size', labelx, labely, title)"
   ]
  },
  {
   "cell_type": "code",
   "execution_count": 108,
   "id": "da05331d",
   "metadata": {},
   "outputs": [
    {
     "data": {
      "image/png": "[encoded data removed]",
      "text/plain": [
       "<Figure size 792x288 with 1 Axes>"
      ]
     },
     "metadata": {},
     "output_type": "display_data"
    }
   ],
   "source": [
    "labelx= \"Hour\"\n",
    "labely = \"Trip Count\"\n",
    "title= \"Weekday trip count by hour of day (thousands)\"\n",
    "group_plot(weekdays,[\"hour\"], 'size', labelx, labely, title)"
   ]
  },
  {
   "cell_type": "code",
   "execution_count": 109,
   "id": "891018f4",
   "metadata": {},
   "outputs": [
    {
     "data": {
      "image/png": "[encoded data removed]",
      "text/plain": [
       "<Figure size 792x288 with 1 Axes>"
      ]
     },
     "metadata": {},
     "output_type": "display_data"
    }
   ],
   "source": [
    "labelx= \"Hour\"\n",
    "labely = \"Trip Count\"\n",
    "title= \"Weekday trip count by hour of day (thousands)\"\n",
    "group_plot(weekends,[\"hour\"], 'size', labelx, labely, title)"
   ]
  },
  {
   "cell_type": "code",
   "execution_count": 19,
   "id": "dac552f8",
   "metadata": {},
   "outputs": [
    {
     "data": {
      "text/html": [
       "<div>\n",
       "<style scoped>\n",
       "    .dataframe tbody tr th:only-of-type {\n",
       "        vertical-align: middle;\n",
       "    }\n",
       "\n",
       "    .dataframe tbody tr th {\n",
       "        vertical-align: top;\n",
       "    }\n",
       "\n",
       "    .dataframe thead th {\n",
       "        text-align: right;\n",
       "    }\n",
       "</style>\n",
       "<table border=\"1\" class=\"dataframe\">\n",
       "  <thead>\n",
       "    <tr style=\"text-align: right;\">\n",
       "      <th></th>\n",
       "      <th>Trip ID</th>\n",
       "      <th>Start Date</th>\n",
       "      <th>Start Station</th>\n",
       "      <th>End Date</th>\n",
       "      <th>End Station</th>\n",
       "      <th>Subscriber Type</th>\n",
       "      <th>month</th>\n",
       "      <th>day</th>\n",
       "      <th>hour</th>\n",
       "    </tr>\n",
       "  </thead>\n",
       "  <tbody>\n",
       "    <tr>\n",
       "      <th>0</th>\n",
       "      <td>913460</td>\n",
       "      <td>2015-08-31 23:26:00</td>\n",
       "      <td>50</td>\n",
       "      <td>2015-08-31 23:39:00</td>\n",
       "      <td>70</td>\n",
       "      <td>Subscriber</td>\n",
       "      <td>8</td>\n",
       "      <td>0</td>\n",
       "      <td>23</td>\n",
       "    </tr>\n",
       "    <tr>\n",
       "      <th>1</th>\n",
       "      <td>913459</td>\n",
       "      <td>2015-08-31 23:11:00</td>\n",
       "      <td>31</td>\n",
       "      <td>2015-08-31 23:28:00</td>\n",
       "      <td>27</td>\n",
       "      <td>Subscriber</td>\n",
       "      <td>8</td>\n",
       "      <td>0</td>\n",
       "      <td>23</td>\n",
       "    </tr>\n",
       "    <tr>\n",
       "      <th>2</th>\n",
       "      <td>913455</td>\n",
       "      <td>2015-08-31 23:13:00</td>\n",
       "      <td>47</td>\n",
       "      <td>2015-08-31 23:18:00</td>\n",
       "      <td>64</td>\n",
       "      <td>Subscriber</td>\n",
       "      <td>8</td>\n",
       "      <td>0</td>\n",
       "      <td>23</td>\n",
       "    </tr>\n",
       "    <tr>\n",
       "      <th>3</th>\n",
       "      <td>913454</td>\n",
       "      <td>2015-08-31 23:10:00</td>\n",
       "      <td>10</td>\n",
       "      <td>2015-08-31 23:17:00</td>\n",
       "      <td>8</td>\n",
       "      <td>Subscriber</td>\n",
       "      <td>8</td>\n",
       "      <td>0</td>\n",
       "      <td>23</td>\n",
       "    </tr>\n",
       "    <tr>\n",
       "      <th>4</th>\n",
       "      <td>913453</td>\n",
       "      <td>2015-08-31 23:09:00</td>\n",
       "      <td>51</td>\n",
       "      <td>2015-08-31 23:22:00</td>\n",
       "      <td>60</td>\n",
       "      <td>Customer</td>\n",
       "      <td>8</td>\n",
       "      <td>0</td>\n",
       "      <td>23</td>\n",
       "    </tr>\n",
       "  </tbody>\n",
       "</table>\n",
       "</div>"
      ],
      "text/plain": [
       "   Trip ID          Start Date  Start Station            End Date  \\\n",
       "0   913460 2015-08-31 23:26:00             50 2015-08-31 23:39:00   \n",
       "1   913459 2015-08-31 23:11:00             31 2015-08-31 23:28:00   \n",
       "2   913455 2015-08-31 23:13:00             47 2015-08-31 23:18:00   \n",
       "3   913454 2015-08-31 23:10:00             10 2015-08-31 23:17:00   \n",
       "4   913453 2015-08-31 23:09:00             51 2015-08-31 23:22:00   \n",
       "\n",
       "   End Station Subscriber Type  month  day  hour  \n",
       "0           70      Subscriber      8    0    23  \n",
       "1           27      Subscriber      8    0    23  \n",
       "2           64      Subscriber      8    0    23  \n",
       "3            8      Subscriber      8    0    23  \n",
       "4           60        Customer      8    0    23  "
      ]
     },
     "execution_count": 19,
     "metadata": {},
     "output_type": "execute_result"
    }
   ],
   "source": [
    "trips.head()"
   ]
  },
  {
   "cell_type": "code",
   "execution_count": 20,
   "id": "caf7d21f",
   "metadata": {},
   "outputs": [],
   "source": [
    "trips.to_csv('../data/trips_df.csv', index=False)"
   ]
  },
  {
   "cell_type": "code",
   "execution_count": 156,
   "id": "fb4dcf50",
   "metadata": {},
   "outputs": [],
   "source": [
    "'''\n",
    "Looks like this is getting the number of records per hour by\n",
    "using the .size() function. But shouldn't we be looking for\n",
    "the net, meaning we need to subtract bikes out ('Start Date')\n",
    "from bikes in ('End Date')?\n",
    "\n",
    "Also need to figure out how I'm capturing station info here.\n",
    "'''\n",
    "out_trips=trips.set_index(\"Start Date\").resample(\"H\").size().to_frame(name='out')"
   ]
  },
  {
   "cell_type": "code",
   "execution_count": 140,
   "id": "a91d3dd1",
   "metadata": {},
   "outputs": [],
   "source": [
    "in_trips=trips.set_index(\"End Date\").resample(\"H\").size().to_frame(name='in')"
   ]
  },
  {
   "cell_type": "code",
   "execution_count": 139,
   "id": "c015c271",
   "metadata": {},
   "outputs": [
    {
     "data": {
      "text/html": [
       "<div>\n",
       "<style scoped>\n",
       "    .dataframe tbody tr th:only-of-type {\n",
       "        vertical-align: middle;\n",
       "    }\n",
       "\n",
       "    .dataframe tbody tr th {\n",
       "        vertical-align: top;\n",
       "    }\n",
       "\n",
       "    .dataframe thead th {\n",
       "        text-align: right;\n",
       "    }\n",
       "</style>\n",
       "<table border=\"1\" class=\"dataframe\">\n",
       "  <thead>\n",
       "    <tr style=\"text-align: right;\">\n",
       "      <th></th>\n",
       "      <th>out</th>\n",
       "    </tr>\n",
       "    <tr>\n",
       "      <th>Start Date</th>\n",
       "      <th></th>\n",
       "    </tr>\n",
       "  </thead>\n",
       "  <tbody>\n",
       "    <tr>\n",
       "      <th>2014-09-01 00:00:00</th>\n",
       "      <td>3</td>\n",
       "    </tr>\n",
       "    <tr>\n",
       "      <th>2014-09-01 01:00:00</th>\n",
       "      <td>0</td>\n",
       "    </tr>\n",
       "    <tr>\n",
       "      <th>2014-09-01 02:00:00</th>\n",
       "      <td>0</td>\n",
       "    </tr>\n",
       "    <tr>\n",
       "      <th>2014-09-01 03:00:00</th>\n",
       "      <td>1</td>\n",
       "    </tr>\n",
       "    <tr>\n",
       "      <th>2014-09-01 04:00:00</th>\n",
       "      <td>2</td>\n",
       "    </tr>\n",
       "  </tbody>\n",
       "</table>\n",
       "</div>"
      ],
      "text/plain": [
       "                     out\n",
       "Start Date              \n",
       "2014-09-01 00:00:00    3\n",
       "2014-09-01 01:00:00    0\n",
       "2014-09-01 02:00:00    0\n",
       "2014-09-01 03:00:00    1\n",
       "2014-09-01 04:00:00    2"
      ]
     },
     "execution_count": 139,
     "metadata": {},
     "output_type": "execute_result"
    }
   ],
   "source": [
    "out_trips.head()"
   ]
  },
  {
   "cell_type": "code",
   "execution_count": 141,
   "id": "747544a5",
   "metadata": {},
   "outputs": [
    {
     "data": {
      "text/html": [
       "<div>\n",
       "<style scoped>\n",
       "    .dataframe tbody tr th:only-of-type {\n",
       "        vertical-align: middle;\n",
       "    }\n",
       "\n",
       "    .dataframe tbody tr th {\n",
       "        vertical-align: top;\n",
       "    }\n",
       "\n",
       "    .dataframe thead th {\n",
       "        text-align: right;\n",
       "    }\n",
       "</style>\n",
       "<table border=\"1\" class=\"dataframe\">\n",
       "  <thead>\n",
       "    <tr style=\"text-align: right;\">\n",
       "      <th></th>\n",
       "      <th>in</th>\n",
       "    </tr>\n",
       "    <tr>\n",
       "      <th>End Date</th>\n",
       "      <th></th>\n",
       "    </tr>\n",
       "  </thead>\n",
       "  <tbody>\n",
       "    <tr>\n",
       "      <th>2014-09-01 00:00:00</th>\n",
       "      <td>3</td>\n",
       "    </tr>\n",
       "    <tr>\n",
       "      <th>2014-09-01 01:00:00</th>\n",
       "      <td>0</td>\n",
       "    </tr>\n",
       "    <tr>\n",
       "      <th>2014-09-01 02:00:00</th>\n",
       "      <td>0</td>\n",
       "    </tr>\n",
       "    <tr>\n",
       "      <th>2014-09-01 03:00:00</th>\n",
       "      <td>0</td>\n",
       "    </tr>\n",
       "    <tr>\n",
       "      <th>2014-09-01 04:00:00</th>\n",
       "      <td>1</td>\n",
       "    </tr>\n",
       "  </tbody>\n",
       "</table>\n",
       "</div>"
      ],
      "text/plain": [
       "                     in\n",
       "End Date               \n",
       "2014-09-01 00:00:00   3\n",
       "2014-09-01 01:00:00   0\n",
       "2014-09-01 02:00:00   0\n",
       "2014-09-01 03:00:00   0\n",
       "2014-09-01 04:00:00   1"
      ]
     },
     "execution_count": 141,
     "metadata": {},
     "output_type": "execute_result"
    }
   ],
   "source": [
    "in_trips.head()"
   ]
  },
  {
   "cell_type": "code",
   "execution_count": 148,
   "id": "4b35740d",
   "metadata": {},
   "outputs": [],
   "source": [
    "hourly_trips = pd.concat([out_trips, in_trips], axis=1)"
   ]
  },
  {
   "cell_type": "code",
   "execution_count": 153,
   "id": "8ad03f67",
   "metadata": {},
   "outputs": [
    {
     "data": {
      "text/html": [
       "<div>\n",
       "<style scoped>\n",
       "    .dataframe tbody tr th:only-of-type {\n",
       "        vertical-align: middle;\n",
       "    }\n",
       "\n",
       "    .dataframe tbody tr th {\n",
       "        vertical-align: top;\n",
       "    }\n",
       "\n",
       "    .dataframe thead th {\n",
       "        text-align: right;\n",
       "    }\n",
       "</style>\n",
       "<table border=\"1\" class=\"dataframe\">\n",
       "  <thead>\n",
       "    <tr style=\"text-align: right;\">\n",
       "      <th></th>\n",
       "      <th>out</th>\n",
       "      <th>in</th>\n",
       "      <th>net_rate</th>\n",
       "    </tr>\n",
       "  </thead>\n",
       "  <tbody>\n",
       "    <tr>\n",
       "      <th>count</th>\n",
       "      <td>8760.000000</td>\n",
       "      <td>8760.000000</td>\n",
       "      <td>8760.000000</td>\n",
       "    </tr>\n",
       "    <tr>\n",
       "      <th>mean</th>\n",
       "      <td>40.428311</td>\n",
       "      <td>40.428311</td>\n",
       "      <td>0.000000</td>\n",
       "    </tr>\n",
       "    <tr>\n",
       "      <th>std</th>\n",
       "      <td>50.499493</td>\n",
       "      <td>50.548833</td>\n",
       "      <td>8.066653</td>\n",
       "    </tr>\n",
       "    <tr>\n",
       "      <th>min</th>\n",
       "      <td>0.000000</td>\n",
       "      <td>0.000000</td>\n",
       "      <td>-42.000000</td>\n",
       "    </tr>\n",
       "    <tr>\n",
       "      <th>25%</th>\n",
       "      <td>4.000000</td>\n",
       "      <td>4.000000</td>\n",
       "      <td>-2.000000</td>\n",
       "    </tr>\n",
       "    <tr>\n",
       "      <th>50%</th>\n",
       "      <td>23.000000</td>\n",
       "      <td>23.000000</td>\n",
       "      <td>0.000000</td>\n",
       "    </tr>\n",
       "    <tr>\n",
       "      <th>75%</th>\n",
       "      <td>50.000000</td>\n",
       "      <td>50.000000</td>\n",
       "      <td>3.000000</td>\n",
       "    </tr>\n",
       "    <tr>\n",
       "      <th>max</th>\n",
       "      <td>249.000000</td>\n",
       "      <td>235.000000</td>\n",
       "      <td>51.000000</td>\n",
       "    </tr>\n",
       "  </tbody>\n",
       "</table>\n",
       "</div>"
      ],
      "text/plain": [
       "               out           in     net_rate\n",
       "count  8760.000000  8760.000000  8760.000000\n",
       "mean     40.428311    40.428311     0.000000\n",
       "std      50.499493    50.548833     8.066653\n",
       "min       0.000000     0.000000   -42.000000\n",
       "25%       4.000000     4.000000    -2.000000\n",
       "50%      23.000000    23.000000     0.000000\n",
       "75%      50.000000    50.000000     3.000000\n",
       "max     249.000000   235.000000    51.000000"
      ]
     },
     "execution_count": 153,
     "metadata": {},
     "output_type": "execute_result"
    }
   ],
   "source": [
    "hourly_trips.describe()"
   ]
  },
  {
   "cell_type": "code",
   "execution_count": 150,
   "id": "13103601",
   "metadata": {},
   "outputs": [],
   "source": [
    "hourly_trips['net_rate'] = hourly_trips['in'] - hourly_trips['out']"
   ]
  },
  {
   "cell_type": "code",
   "execution_count": 123,
   "id": "e41c6c10",
   "metadata": {},
   "outputs": [],
   "source": [
    "hourly_trips=hourly_total.to_frame(name=\"Total\")"
   ]
  },
  {
   "cell_type": "code",
   "execution_count": 146,
   "id": "92b7a610",
   "metadata": {},
   "outputs": [],
   "source": [
    "hourly_trips.index.rename('Date', inplace=True)"
   ]
  },
  {
   "cell_type": "code",
   "execution_count": 132,
   "id": "aad22a98",
   "metadata": {},
   "outputs": [
    {
     "data": {
      "text/plain": [
       "Date\n",
       "2014-09-01 00:00:00     3\n",
       "2014-09-01 01:00:00     0\n",
       "2014-09-01 02:00:00     0\n",
       "2014-09-01 03:00:00     1\n",
       "2014-09-01 04:00:00     2\n",
       "                       ..\n",
       "2015-08-31 19:00:00    72\n",
       "2015-08-31 20:00:00    35\n",
       "2015-08-31 21:00:00    13\n",
       "2015-08-31 22:00:00     2\n",
       "2015-08-31 23:00:00     7\n",
       "Freq: H, Name: Total, Length: 8760, dtype: int64"
      ]
     },
     "execution_count": 132,
     "metadata": {},
     "output_type": "execute_result"
    }
   ],
   "source": [
    "hourly_trips['Total']"
   ]
  },
  {
   "cell_type": "markdown",
   "id": "cff6c4f4",
   "metadata": {},
   "source": [
    "#### Seems like trips is key to getting net rate per hour if datetime can be restricted to hour"
   ]
  },
  {
   "cell_type": "code",
   "execution_count": 43,
   "id": "0ee5f5c5",
   "metadata": {},
   "outputs": [],
   "source": [
    "trips['Start Date'] = trips['Start Date'].apply(lambda x: dt.datetime.strptime(x, '%d/%m/%Y %H:%M'))"
   ]
  },
  {
   "cell_type": "code",
   "execution_count": 44,
   "id": "d83bd865",
   "metadata": {},
   "outputs": [],
   "source": [
    "trips['End Date'] = trips['End Date'].apply(lambda x: dt.datetime.strptime(x, '%d/%m/%Y %H:%M'))"
   ]
  },
  {
   "cell_type": "code",
   "execution_count": 45,
   "id": "3a7f57bb",
   "metadata": {},
   "outputs": [],
   "source": [
    "trips['Start Date hr'] = trips['Start Date'].apply(lambda x: dt.datetime(x.year, x.month, x.day, x.hour))"
   ]
  },
  {
   "cell_type": "code",
   "execution_count": 46,
   "id": "1466f313",
   "metadata": {},
   "outputs": [],
   "source": [
    "trips['End Date hr'] = trips['End Date'].apply(lambda x: dt.datetime(x.year, x.month, x.day, x.hour))"
   ]
  },
  {
   "cell_type": "markdown",
   "id": "091b26df",
   "metadata": {},
   "source": [
    "#### Now I need to calculate the net bikes in and out"
   ]
  },
  {
   "cell_type": "code",
   "execution_count": 47,
   "id": "e481f40d",
   "metadata": {},
   "outputs": [],
   "source": [
    "bikes_out_df = trips.groupby(['Start Station', 'Start Date hr']).count()['Trip ID'].reset_index()"
   ]
  },
  {
   "cell_type": "code",
   "execution_count": 48,
   "id": "09a4b7c3",
   "metadata": {},
   "outputs": [],
   "source": [
    "bikes_out_df.rename(columns={\"Start Station\": \"station\", \"Start Date hr\": \"Date hr\", 'Trip ID': 'count'}, inplace=True)"
   ]
  },
  {
   "cell_type": "code",
   "execution_count": 49,
   "id": "98f680cd",
   "metadata": {},
   "outputs": [],
   "source": [
    "bikes_in_df = trips.groupby(['End Station', 'End Date hr']).count()['Trip ID'].reset_index()"
   ]
  },
  {
   "cell_type": "code",
   "execution_count": 50,
   "id": "953e1558",
   "metadata": {},
   "outputs": [],
   "source": [
    "bikes_in_df.rename(columns={\"End Station\": \"station\", \"End Date hr\": \"Date hr\", 'Trip ID': 'count'}, inplace=True)"
   ]
  },
  {
   "cell_type": "markdown",
   "id": "62c70fc9",
   "metadata": {},
   "source": [
    "#### Combining the bikes-in and bikes-out data frames to get the net count per hour"
   ]
  },
  {
   "cell_type": "code",
   "execution_count": 51,
   "id": "aea28d2b",
   "metadata": {},
   "outputs": [],
   "source": [
    "net_bikes = bikes_in_df.merge(bikes_out_df, how='outer', on=['station', 'Date hr'],\n",
    "                  suffixes=('_bikes_in', '_bikes_out'))"
   ]
  },
  {
   "cell_type": "code",
   "execution_count": 157,
   "id": "13f81b36",
   "metadata": {},
   "outputs": [
    {
     "name": "stdout",
     "output_type": "stream",
     "text": [
      "<class 'pandas.core.frame.DataFrame'>\n",
      "Int64Index: 198122 entries, 0 to 198121\n",
      "Data columns (total 8 columns):\n",
      " #   Column           Non-Null Count   Dtype         \n",
      "---  ------           --------------   -----         \n",
      " 0   station          198122 non-null  int64         \n",
      " 1   Date hr          198122 non-null  datetime64[ns]\n",
      " 2   count_bikes_in   198122 non-null  float64       \n",
      " 3   count_bikes_out  198122 non-null  float64       \n",
      " 4   net rate         198122 non-null  float64       \n",
      " 5   month            198122 non-null  int64         \n",
      " 6   day              198122 non-null  int64         \n",
      " 7   hour             198122 non-null  int64         \n",
      "dtypes: datetime64[ns](1), float64(3), int64(4)\n",
      "memory usage: 17.6 MB\n"
     ]
    }
   ],
   "source": [
    "net_bikes.info()"
   ]
  },
  {
   "cell_type": "code",
   "execution_count": 53,
   "id": "9ab9f640",
   "metadata": {},
   "outputs": [],
   "source": [
    "net_bikes.fillna(0, inplace= True)"
   ]
  },
  {
   "cell_type": "code",
   "execution_count": 54,
   "id": "a691ea1e",
   "metadata": {},
   "outputs": [],
   "source": [
    "net_bikes['net rate'] = net_bikes['count_bikes_in'] - net_bikes['count_bikes_out']"
   ]
  },
  {
   "cell_type": "code",
   "execution_count": 60,
   "id": "1304380a",
   "metadata": {},
   "outputs": [
    {
     "data": {
      "text/html": [
       "<div>\n",
       "<style scoped>\n",
       "    .dataframe tbody tr th:only-of-type {\n",
       "        vertical-align: middle;\n",
       "    }\n",
       "\n",
       "    .dataframe tbody tr th {\n",
       "        vertical-align: top;\n",
       "    }\n",
       "\n",
       "    .dataframe thead th {\n",
       "        text-align: right;\n",
       "    }\n",
       "</style>\n",
       "<table border=\"1\" class=\"dataframe\">\n",
       "  <thead>\n",
       "    <tr style=\"text-align: right;\">\n",
       "      <th></th>\n",
       "      <th>station</th>\n",
       "      <th>Date hr</th>\n",
       "      <th>count_bikes_in</th>\n",
       "      <th>count_bikes_out</th>\n",
       "      <th>net rate</th>\n",
       "      <th>month</th>\n",
       "      <th>day</th>\n",
       "      <th>hour</th>\n",
       "    </tr>\n",
       "  </thead>\n",
       "  <tbody>\n",
       "    <tr>\n",
       "      <th>0</th>\n",
       "      <td>2</td>\n",
       "      <td>2014-09-01 14:00:00</td>\n",
       "      <td>1.0</td>\n",
       "      <td>0.0</td>\n",
       "      <td>1.0</td>\n",
       "      <td>9</td>\n",
       "      <td>0</td>\n",
       "      <td>14</td>\n",
       "    </tr>\n",
       "    <tr>\n",
       "      <th>1</th>\n",
       "      <td>2</td>\n",
       "      <td>2014-09-02 06:00:00</td>\n",
       "      <td>3.0</td>\n",
       "      <td>0.0</td>\n",
       "      <td>3.0</td>\n",
       "      <td>9</td>\n",
       "      <td>1</td>\n",
       "      <td>6</td>\n",
       "    </tr>\n",
       "    <tr>\n",
       "      <th>2</th>\n",
       "      <td>2</td>\n",
       "      <td>2014-09-02 07:00:00</td>\n",
       "      <td>6.0</td>\n",
       "      <td>3.0</td>\n",
       "      <td>3.0</td>\n",
       "      <td>9</td>\n",
       "      <td>1</td>\n",
       "      <td>7</td>\n",
       "    </tr>\n",
       "    <tr>\n",
       "      <th>3</th>\n",
       "      <td>2</td>\n",
       "      <td>2014-09-02 08:00:00</td>\n",
       "      <td>1.0</td>\n",
       "      <td>2.0</td>\n",
       "      <td>-1.0</td>\n",
       "      <td>9</td>\n",
       "      <td>1</td>\n",
       "      <td>8</td>\n",
       "    </tr>\n",
       "    <tr>\n",
       "      <th>4</th>\n",
       "      <td>2</td>\n",
       "      <td>2014-09-02 09:00:00</td>\n",
       "      <td>2.0</td>\n",
       "      <td>3.0</td>\n",
       "      <td>-1.0</td>\n",
       "      <td>9</td>\n",
       "      <td>1</td>\n",
       "      <td>9</td>\n",
       "    </tr>\n",
       "    <tr>\n",
       "      <th>...</th>\n",
       "      <td>...</td>\n",
       "      <td>...</td>\n",
       "      <td>...</td>\n",
       "      <td>...</td>\n",
       "      <td>...</td>\n",
       "      <td>...</td>\n",
       "      <td>...</td>\n",
       "      <td>...</td>\n",
       "    </tr>\n",
       "    <tr>\n",
       "      <th>198117</th>\n",
       "      <td>90</td>\n",
       "      <td>2015-08-30 13:00:00</td>\n",
       "      <td>0.0</td>\n",
       "      <td>1.0</td>\n",
       "      <td>-1.0</td>\n",
       "      <td>8</td>\n",
       "      <td>6</td>\n",
       "      <td>13</td>\n",
       "    </tr>\n",
       "    <tr>\n",
       "      <th>198118</th>\n",
       "      <td>90</td>\n",
       "      <td>2015-08-30 17:00:00</td>\n",
       "      <td>0.0</td>\n",
       "      <td>2.0</td>\n",
       "      <td>-2.0</td>\n",
       "      <td>8</td>\n",
       "      <td>6</td>\n",
       "      <td>17</td>\n",
       "    </tr>\n",
       "    <tr>\n",
       "      <th>198119</th>\n",
       "      <td>90</td>\n",
       "      <td>2015-08-30 19:00:00</td>\n",
       "      <td>0.0</td>\n",
       "      <td>2.0</td>\n",
       "      <td>-2.0</td>\n",
       "      <td>8</td>\n",
       "      <td>6</td>\n",
       "      <td>19</td>\n",
       "    </tr>\n",
       "    <tr>\n",
       "      <th>198120</th>\n",
       "      <td>90</td>\n",
       "      <td>2015-08-31 12:00:00</td>\n",
       "      <td>0.0</td>\n",
       "      <td>1.0</td>\n",
       "      <td>-1.0</td>\n",
       "      <td>8</td>\n",
       "      <td>0</td>\n",
       "      <td>12</td>\n",
       "    </tr>\n",
       "    <tr>\n",
       "      <th>198121</th>\n",
       "      <td>90</td>\n",
       "      <td>2015-08-31 20:00:00</td>\n",
       "      <td>0.0</td>\n",
       "      <td>1.0</td>\n",
       "      <td>-1.0</td>\n",
       "      <td>8</td>\n",
       "      <td>0</td>\n",
       "      <td>20</td>\n",
       "    </tr>\n",
       "  </tbody>\n",
       "</table>\n",
       "<p>198122 rows × 8 columns</p>\n",
       "</div>"
      ],
      "text/plain": [
       "        station             Date hr  count_bikes_in  count_bikes_out  \\\n",
       "0             2 2014-09-01 14:00:00             1.0              0.0   \n",
       "1             2 2014-09-02 06:00:00             3.0              0.0   \n",
       "2             2 2014-09-02 07:00:00             6.0              3.0   \n",
       "3             2 2014-09-02 08:00:00             1.0              2.0   \n",
       "4             2 2014-09-02 09:00:00             2.0              3.0   \n",
       "...         ...                 ...             ...              ...   \n",
       "198117       90 2015-08-30 13:00:00             0.0              1.0   \n",
       "198118       90 2015-08-30 17:00:00             0.0              2.0   \n",
       "198119       90 2015-08-30 19:00:00             0.0              2.0   \n",
       "198120       90 2015-08-31 12:00:00             0.0              1.0   \n",
       "198121       90 2015-08-31 20:00:00             0.0              1.0   \n",
       "\n",
       "        net rate  month  day  hour  \n",
       "0            1.0      9    0    14  \n",
       "1            3.0      9    1     6  \n",
       "2            3.0      9    1     7  \n",
       "3           -1.0      9    1     8  \n",
       "4           -1.0      9    1     9  \n",
       "...          ...    ...  ...   ...  \n",
       "198117      -1.0      8    6    13  \n",
       "198118      -2.0      8    6    17  \n",
       "198119      -2.0      8    6    19  \n",
       "198120      -1.0      8    0    12  \n",
       "198121      -1.0      8    0    20  \n",
       "\n",
       "[198122 rows x 8 columns]"
      ]
     },
     "execution_count": 60,
     "metadata": {},
     "output_type": "execute_result"
    }
   ],
   "source": [
    "net_bikes"
   ]
  },
  {
   "cell_type": "code",
   "execution_count": 59,
   "id": "ef3bfc85",
   "metadata": {},
   "outputs": [],
   "source": [
    "net_bikes['month'] = net_bikes['Date hr'].dt.month\n",
    "net_bikes['day'] = net_bikes['Date hr'].dt.dayofweek\n",
    "net_bikes['hour'] = net_bikes['Date hr'].dt.hour"
   ]
  },
  {
   "cell_type": "code",
   "execution_count": 62,
   "id": "18d09b23",
   "metadata": {},
   "outputs": [
    {
     "data": {
      "image/png": "[encoded data removed]",
      "text/plain": [
       "<Figure size 1152x360 with 1 Axes>"
      ]
     },
     "metadata": {
      "needs_background": "light"
     },
     "output_type": "display_data"
    }
   ],
   "source": [
    "fig, ax=plt.subplots(figsize=(16, 5))\n",
    "sns.countplot(x=net_bikes['station'], order= net_bikes['station'].value_counts().index, ax=ax);"
   ]
  },
  {
   "cell_type": "code",
   "execution_count": 63,
   "id": "edf0d8cb",
   "metadata": {},
   "outputs": [
    {
     "data": {
      "image/png": "[encoded data removed]",
      "text/plain": [
       "<Figure size 432x288 with 1 Axes>"
      ]
     },
     "metadata": {
      "needs_background": "light"
     },
     "output_type": "display_data"
    }
   ],
   "source": [
    "net_bikes['station'].hist(bins=int(np.sqrt(len(stations.Id))));"
   ]
  },
  {
   "cell_type": "markdown",
   "id": "b7bbc49b",
   "metadata": {},
   "source": [
    "#### Using the net rate column as a target should serve for a simple linear regression model"
   ]
  },
  {
   "cell_type": "code",
   "execution_count": 20,
   "id": "36e35efd",
   "metadata": {},
   "outputs": [],
   "source": [
    "net_bikes.to_csv('../data/net_bikes.csv', index=False)"
   ]
  },
  {
   "cell_type": "markdown",
   "id": "7dfff87b",
   "metadata": {},
   "source": [
    "### The model could be expanded by joining net_bikes to weather on date to account for conditions"
   ]
  },
  {
   "cell_type": "code",
   "execution_count": 21,
   "id": "0b9d7956",
   "metadata": {},
   "outputs": [
    {
     "data": {
      "text/html": [
       "<div>\n",
       "<style scoped>\n",
       "    .dataframe tbody tr th:only-of-type {\n",
       "        vertical-align: middle;\n",
       "    }\n",
       "\n",
       "    .dataframe tbody tr th {\n",
       "        vertical-align: top;\n",
       "    }\n",
       "\n",
       "    .dataframe thead th {\n",
       "        text-align: right;\n",
       "    }\n",
       "</style>\n",
       "<table border=\"1\" class=\"dataframe\">\n",
       "  <thead>\n",
       "    <tr style=\"text-align: right;\">\n",
       "      <th></th>\n",
       "      <th>Date</th>\n",
       "      <th>Max TemperatureF</th>\n",
       "      <th>Mean TemperatureF</th>\n",
       "      <th>Min TemperatureF</th>\n",
       "      <th>Max Dew PointF</th>\n",
       "      <th>MeanDew PointF</th>\n",
       "      <th>Min DewpointF</th>\n",
       "      <th>Max Humidity</th>\n",
       "      <th>Mean Humidity</th>\n",
       "      <th>Min Humidity</th>\n",
       "      <th>...</th>\n",
       "      <th>Mean VisibilityMiles</th>\n",
       "      <th>Min VisibilityMiles</th>\n",
       "      <th>Max Wind SpeedMPH</th>\n",
       "      <th>Mean Wind SpeedMPH</th>\n",
       "      <th>Max Gust SpeedMPH</th>\n",
       "      <th>PrecipitationIn</th>\n",
       "      <th>CloudCover</th>\n",
       "      <th>Events</th>\n",
       "      <th>WindDirDegrees</th>\n",
       "      <th>Zip</th>\n",
       "    </tr>\n",
       "  </thead>\n",
       "  <tbody>\n",
       "    <tr>\n",
       "      <th>0</th>\n",
       "      <td>01/09/2014</td>\n",
       "      <td>83.0</td>\n",
       "      <td>70.0</td>\n",
       "      <td>57.0</td>\n",
       "      <td>58.0</td>\n",
       "      <td>56.0</td>\n",
       "      <td>52.0</td>\n",
       "      <td>86.0</td>\n",
       "      <td>64.0</td>\n",
       "      <td>42.0</td>\n",
       "      <td>...</td>\n",
       "      <td>10.0</td>\n",
       "      <td>8.0</td>\n",
       "      <td>16.0</td>\n",
       "      <td>7.0</td>\n",
       "      <td>20.0</td>\n",
       "      <td>0.0</td>\n",
       "      <td>0.0</td>\n",
       "      <td>NaN</td>\n",
       "      <td>290.0</td>\n",
       "      <td>94107</td>\n",
       "    </tr>\n",
       "    <tr>\n",
       "      <th>1</th>\n",
       "      <td>02/09/2014</td>\n",
       "      <td>72.0</td>\n",
       "      <td>66.0</td>\n",
       "      <td>60.0</td>\n",
       "      <td>58.0</td>\n",
       "      <td>57.0</td>\n",
       "      <td>55.0</td>\n",
       "      <td>84.0</td>\n",
       "      <td>73.0</td>\n",
       "      <td>61.0</td>\n",
       "      <td>...</td>\n",
       "      <td>10.0</td>\n",
       "      <td>7.0</td>\n",
       "      <td>21.0</td>\n",
       "      <td>8.0</td>\n",
       "      <td>NaN</td>\n",
       "      <td>0.0</td>\n",
       "      <td>5.0</td>\n",
       "      <td>NaN</td>\n",
       "      <td>290.0</td>\n",
       "      <td>94107</td>\n",
       "    </tr>\n",
       "    <tr>\n",
       "      <th>2</th>\n",
       "      <td>03/09/2014</td>\n",
       "      <td>76.0</td>\n",
       "      <td>69.0</td>\n",
       "      <td>61.0</td>\n",
       "      <td>57.0</td>\n",
       "      <td>56.0</td>\n",
       "      <td>55.0</td>\n",
       "      <td>84.0</td>\n",
       "      <td>69.0</td>\n",
       "      <td>53.0</td>\n",
       "      <td>...</td>\n",
       "      <td>10.0</td>\n",
       "      <td>10.0</td>\n",
       "      <td>21.0</td>\n",
       "      <td>8.0</td>\n",
       "      <td>24.0</td>\n",
       "      <td>0.0</td>\n",
       "      <td>4.0</td>\n",
       "      <td>NaN</td>\n",
       "      <td>276.0</td>\n",
       "      <td>94107</td>\n",
       "    </tr>\n",
       "    <tr>\n",
       "      <th>3</th>\n",
       "      <td>04/09/2014</td>\n",
       "      <td>74.0</td>\n",
       "      <td>68.0</td>\n",
       "      <td>61.0</td>\n",
       "      <td>57.0</td>\n",
       "      <td>57.0</td>\n",
       "      <td>56.0</td>\n",
       "      <td>84.0</td>\n",
       "      <td>71.0</td>\n",
       "      <td>57.0</td>\n",
       "      <td>...</td>\n",
       "      <td>10.0</td>\n",
       "      <td>8.0</td>\n",
       "      <td>22.0</td>\n",
       "      <td>8.0</td>\n",
       "      <td>25.0</td>\n",
       "      <td>0.0</td>\n",
       "      <td>5.0</td>\n",
       "      <td>NaN</td>\n",
       "      <td>301.0</td>\n",
       "      <td>94107</td>\n",
       "    </tr>\n",
       "    <tr>\n",
       "      <th>4</th>\n",
       "      <td>05/09/2014</td>\n",
       "      <td>72.0</td>\n",
       "      <td>66.0</td>\n",
       "      <td>60.0</td>\n",
       "      <td>57.0</td>\n",
       "      <td>56.0</td>\n",
       "      <td>54.0</td>\n",
       "      <td>84.0</td>\n",
       "      <td>71.0</td>\n",
       "      <td>57.0</td>\n",
       "      <td>...</td>\n",
       "      <td>9.0</td>\n",
       "      <td>7.0</td>\n",
       "      <td>18.0</td>\n",
       "      <td>8.0</td>\n",
       "      <td>32.0</td>\n",
       "      <td>0.0</td>\n",
       "      <td>4.0</td>\n",
       "      <td>NaN</td>\n",
       "      <td>309.0</td>\n",
       "      <td>94107</td>\n",
       "    </tr>\n",
       "  </tbody>\n",
       "</table>\n",
       "<p>5 rows × 24 columns</p>\n",
       "</div>"
      ],
      "text/plain": [
       "         Date  Max TemperatureF  Mean TemperatureF  Min TemperatureF  \\\n",
       "0  01/09/2014              83.0               70.0              57.0   \n",
       "1  02/09/2014              72.0               66.0              60.0   \n",
       "2  03/09/2014              76.0               69.0              61.0   \n",
       "3  04/09/2014              74.0               68.0              61.0   \n",
       "4  05/09/2014              72.0               66.0              60.0   \n",
       "\n",
       "   Max Dew PointF  MeanDew PointF  Min DewpointF  Max Humidity  Mean Humidity  \\\n",
       "0            58.0            56.0           52.0          86.0           64.0   \n",
       "1            58.0            57.0           55.0          84.0           73.0   \n",
       "2            57.0            56.0           55.0          84.0           69.0   \n",
       "3            57.0            57.0           56.0          84.0           71.0   \n",
       "4            57.0            56.0           54.0          84.0           71.0   \n",
       "\n",
       "   Min Humidity  ...  Mean VisibilityMiles  Min VisibilityMiles  \\\n",
       "0          42.0  ...                  10.0                  8.0   \n",
       "1          61.0  ...                  10.0                  7.0   \n",
       "2          53.0  ...                  10.0                 10.0   \n",
       "3          57.0  ...                  10.0                  8.0   \n",
       "4          57.0  ...                   9.0                  7.0   \n",
       "\n",
       "   Max Wind SpeedMPH  Mean Wind SpeedMPH  Max Gust SpeedMPH  PrecipitationIn  \\\n",
       "0               16.0                 7.0               20.0              0.0   \n",
       "1               21.0                 8.0                NaN              0.0   \n",
       "2               21.0                 8.0               24.0              0.0   \n",
       "3               22.0                 8.0               25.0              0.0   \n",
       "4               18.0                 8.0               32.0              0.0   \n",
       "\n",
       "   CloudCover  Events  WindDirDegrees    Zip  \n",
       "0         0.0     NaN           290.0  94107  \n",
       "1         5.0     NaN           290.0  94107  \n",
       "2         4.0     NaN           276.0  94107  \n",
       "3         5.0     NaN           301.0  94107  \n",
       "4         4.0     NaN           309.0  94107  \n",
       "\n",
       "[5 rows x 24 columns]"
      ]
     },
     "execution_count": 21,
     "metadata": {},
     "output_type": "execute_result"
    }
   ],
   "source": [
    "weather.head()"
   ]
  },
  {
   "cell_type": "code",
   "execution_count": 22,
   "id": "0b2552a6",
   "metadata": {},
   "outputs": [
    {
     "name": "stdout",
     "output_type": "stream",
     "text": [
      "<class 'pandas.core.frame.DataFrame'>\n",
      "RangeIndex: 1825 entries, 0 to 1824\n",
      "Data columns (total 24 columns):\n",
      " #   Column                     Non-Null Count  Dtype  \n",
      "---  ------                     --------------  -----  \n",
      " 0   Date                       1825 non-null   object \n",
      " 1   Max TemperatureF           1821 non-null   float64\n",
      " 2   Mean TemperatureF          1821 non-null   float64\n",
      " 3   Min TemperatureF           1821 non-null   float64\n",
      " 4   Max Dew PointF             1775 non-null   float64\n",
      " 5   MeanDew PointF             1775 non-null   float64\n",
      " 6   Min DewpointF              1775 non-null   float64\n",
      " 7   Max Humidity               1775 non-null   float64\n",
      " 8   Mean Humidity              1775 non-null   float64\n",
      " 9   Min Humidity               1775 non-null   float64\n",
      " 10  Max Sea Level PressureIn   1824 non-null   float64\n",
      " 11  Mean Sea Level PressureIn  1824 non-null   float64\n",
      " 12  Min Sea Level PressureIn   1824 non-null   float64\n",
      " 13  Max VisibilityMiles        1820 non-null   float64\n",
      " 14  Mean VisibilityMiles       1820 non-null   float64\n",
      " 15  Min VisibilityMiles        1820 non-null   float64\n",
      " 16  Max Wind SpeedMPH          1824 non-null   float64\n",
      " 17  Mean Wind SpeedMPH         1824 non-null   float64\n",
      " 18  Max Gust SpeedMPH          1284 non-null   float64\n",
      " 19  PrecipitationIn            1824 non-null   float64\n",
      " 20  CloudCover                 1824 non-null   float64\n",
      " 21  Events                     287 non-null    object \n",
      " 22  WindDirDegrees             1824 non-null   float64\n",
      " 23  Zip                        1825 non-null   int64  \n",
      "dtypes: float64(21), int64(1), object(2)\n",
      "memory usage: 342.3+ KB\n"
     ]
    }
   ],
   "source": [
    "weather.info()"
   ]
  }
 ],
 "metadata": {
  "kernelspec": {
   "display_name": "Python 3 (ipykernel)",
   "language": "python",
   "name": "python3"
  },
  "language_info": {
   "codemirror_mode": {
    "name": "ipython",
    "version": 3
   },
   "file_extension": ".py",
   "mimetype": "text/x-python",
   "name": "python",
   "nbconvert_exporter": "python",
   "pygments_lexer": "ipython3",
   "version": "3.8.11"
  }
 },
 "nbformat": 4,
 "nbformat_minor": 5
}
